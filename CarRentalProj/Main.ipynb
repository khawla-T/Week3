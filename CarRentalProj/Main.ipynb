{
 "cells": [
  {
   "cell_type": "code",
   "execution_count": 2,
   "id": "c0b385c1",
   "metadata": {},
   "outputs": [
    {
     "name": "stdout",
     "output_type": "stream",
     "text": [
      "\n",
      "        *************************************************\n",
      "        1. Show available number of cars in store\n",
      "        2. Rent a Car \n",
      "        3. Return a rented Car back.\n",
      "        4. Exit\n",
      "        *************************************************\n",
      "        \n",
      "\n",
      "How would you like to use our services\n",
      "1\n",
      "{'number': 1, 'price': 50, 'model': 'ui384', 'rented_flag': 0} \n",
      "\n",
      "{'number': 2, 'price': 60, 'model': 'fwe344', 'rented_flag': 0} \n",
      "\n",
      "{'number': 3, 'price': 70, 'model': 'fiu875', 'rented_flag': 0} \n",
      "\n",
      "{'number': 4, 'price': 100, 'model': 'doi287', 'rented_flag': 0} \n",
      "\n",
      "\n",
      "        *************************************************\n",
      "        1. Show available number of cars in store\n",
      "        2. Rent a Car \n",
      "        3. Return a rented Car back.\n",
      "        4. Exit\n",
      "        *************************************************\n",
      "        \n",
      "\n",
      "How would you like to use our services\n",
      "2\n",
      "\n",
      "Choose the car number\n",
      "3\n"
     ]
    },
    {
     "ename": "UnboundLocalError",
     "evalue": "local variable 'rented_cars_cus' referenced before assignment",
     "output_type": "error",
     "traceback": [
      "\u001b[0;31m---------------------------------------------------------------------------\u001b[0m",
      "\u001b[0;31mUnboundLocalError\u001b[0m                         Traceback (most recent call last)",
      "\u001b[0;32m/var/folders/k9/n1tzwpfx4n1fb86fmfyd5x780000gn/T/ipykernel_12962/2019569589.py\u001b[0m in \u001b[0;36m<module>\u001b[0;34m\u001b[0m\n\u001b[1;32m     20\u001b[0m         \u001b[0;32melif\u001b[0m \u001b[0mchoice\u001b[0m \u001b[0;34m==\u001b[0m \u001b[0;36m2\u001b[0m\u001b[0;34m:\u001b[0m\u001b[0;34m\u001b[0m\u001b[0;34m\u001b[0m\u001b[0m\n\u001b[1;32m     21\u001b[0m                 \u001b[0mcar_num\u001b[0m\u001b[0;34m=\u001b[0m \u001b[0mint\u001b[0m\u001b[0;34m(\u001b[0m\u001b[0minput\u001b[0m\u001b[0;34m(\u001b[0m\u001b[0;34m\"\\nChoose the car number\\n\"\u001b[0m\u001b[0;34m)\u001b[0m\u001b[0;34m)\u001b[0m\u001b[0;34m\u001b[0m\u001b[0;34m\u001b[0m\u001b[0m\n\u001b[0;32m---> 22\u001b[0;31m                 \u001b[0mcustomer1\u001b[0m\u001b[0;34m.\u001b[0m\u001b[0mrent_car\u001b[0m\u001b[0;34m(\u001b[0m\u001b[0mcar_num\u001b[0m\u001b[0;34m)\u001b[0m\u001b[0;34m\u001b[0m\u001b[0;34m\u001b[0m\u001b[0m\n\u001b[0m\u001b[1;32m     23\u001b[0m \u001b[0;34m\u001b[0m\u001b[0m\n\u001b[1;32m     24\u001b[0m         \u001b[0;32melif\u001b[0m \u001b[0mchoice\u001b[0m \u001b[0;34m==\u001b[0m \u001b[0;36m3\u001b[0m\u001b[0;34m:\u001b[0m\u001b[0;34m\u001b[0m\u001b[0;34m\u001b[0m\u001b[0m\n",
      "\u001b[0;32m~/Downloads/CarRentalProj/Customer.py\u001b[0m in \u001b[0;36mrent_car\u001b[0;34m(self, car_number)\u001b[0m\n\u001b[1;32m     44\u001b[0m     \u001b[0;32mdef\u001b[0m \u001b[0mrent_car\u001b[0m\u001b[0;34m(\u001b[0m\u001b[0mself\u001b[0m\u001b[0;34m,\u001b[0m\u001b[0mcar_number\u001b[0m\u001b[0;34m)\u001b[0m\u001b[0;34m:\u001b[0m\u001b[0;34m\u001b[0m\u001b[0;34m\u001b[0m\u001b[0m\n\u001b[1;32m     45\u001b[0m         \u001b[0;31m#if total_car_rented <= Store_cars:\u001b[0m\u001b[0;34m\u001b[0m\u001b[0;34m\u001b[0m\u001b[0m\n\u001b[0;32m---> 46\u001b[0;31m             \u001b[0mls\u001b[0m\u001b[0;34m=\u001b[0m\u001b[0;34m[\u001b[0m\u001b[0;34m]\u001b[0m\u001b[0;34m\u001b[0m\u001b[0;34m\u001b[0m\u001b[0m\n\u001b[0m\u001b[1;32m     47\u001b[0m             \u001b[0;32mfor\u001b[0m \u001b[0mi\u001b[0m \u001b[0;32min\u001b[0m \u001b[0mCars\u001b[0m\u001b[0;34m:\u001b[0m\u001b[0;34m\u001b[0m\u001b[0;34m\u001b[0m\u001b[0m\n\u001b[1;32m     48\u001b[0m                 \u001b[0mls\u001b[0m\u001b[0;34m=\u001b[0m\u001b[0mCars\u001b[0m\u001b[0;34m[\u001b[0m\u001b[0mi\u001b[0m\u001b[0;34m]\u001b[0m\u001b[0;34m\u001b[0m\u001b[0;34m\u001b[0m\u001b[0m\n",
      "\u001b[0;31mUnboundLocalError\u001b[0m: local variable 'rented_cars_cus' referenced before assignment"
     ]
    }
   ],
   "source": [
    "from  Customer import *\n",
    "\n",
    "customer1= Customer(\"name1\")\n",
    "\n",
    "while True:\n",
    "        print(\"\"\"\n",
    "        *************************************************\n",
    "        1. Show available number of cars in store\n",
    "        2. Rent a Car \n",
    "        3. Return a rented Car back.\n",
    "        4. Exit\n",
    "        *************************************************\n",
    "        \"\"\")\n",
    "        # Get an input from user for his choice\n",
    "        choice = int(input(\"\\nHow would you like to use our services\\n\"))\n",
    "\n",
    "        if choice == 1:\n",
    "                customer1.list_cars_for_rent()\n",
    "            \n",
    "        elif choice == 2:\n",
    "                car_num= int(input(\"\\nChoose the car number\\n\"))\n",
    "                customer1.rent_car(car_num)\n",
    "                \n",
    "        elif choice == 3:\n",
    "                customer1.list_cars_rented()\n",
    "                car_num= int(input(\"\\nChoose the car number from the list\\n\"))\n",
    "                bill= 0\n",
    "                customer1.return_cars(car_num,bill)\n",
    "                \n",
    "        elif choice == 4:\n",
    "            print(\"\\nThanks for your visit\\n\")\n",
    "            exit()\n"
   ]
  },
  {
   "cell_type": "code",
   "execution_count": null,
   "id": "4ec0a123",
   "metadata": {},
   "outputs": [],
   "source": [
    "        \n",
    "            "
   ]
  },
  {
   "cell_type": "code",
   "execution_count": null,
   "id": "2b1bb52b",
   "metadata": {},
   "outputs": [],
   "source": []
  }
 ],
 "metadata": {
  "kernelspec": {
   "display_name": "Python 3 (ipykernel)",
   "language": "python",
   "name": "python3"
  },
  "language_info": {
   "codemirror_mode": {
    "name": "ipython",
    "version": 3
   },
   "file_extension": ".py",
   "mimetype": "text/x-python",
   "name": "python",
   "nbconvert_exporter": "python",
   "pygments_lexer": "ipython3",
   "version": "3.9.13"
  }
 },
 "nbformat": 4,
 "nbformat_minor": 5
}
